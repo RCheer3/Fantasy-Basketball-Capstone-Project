{
 "cells": [
  {
   "cell_type": "code",
   "execution_count": null,
   "metadata": {},
   "outputs": [],
   "source": [
    "import Get_Data as g"
   ]
  },
  {
   "cell_type": "code",
   "execution_count": 2,
   "metadata": {},
   "outputs": [
    {
     "ename": "AttributeError",
     "evalue": "'Get_Category_Data' object has no attribute 'points_df'",
     "output_type": "error",
     "traceback": [
      "\u001b[0;31m---------------------------------------------------------------------------\u001b[0m",
      "\u001b[0;31mAttributeError\u001b[0m                            Traceback (most recent call last)",
      "\u001b[0;32m<ipython-input-2-c915d5267184>\u001b[0m in \u001b[0;36m<module>\u001b[0;34m()\u001b[0m\n\u001b[0;32m----> 1\u001b[0;31m \u001b[0mcat_data\u001b[0m \u001b[0;34m=\u001b[0m \u001b[0mg\u001b[0m\u001b[0;34m.\u001b[0m\u001b[0mGet_Category_Data\u001b[0m\u001b[0;34m(\u001b[0m\u001b[0;34m)\u001b[0m\u001b[0;34m\u001b[0m\u001b[0m\n\u001b[0m",
      "\u001b[0;32m~/Desktop/Galvanize/Capstone/Fantasy-Basketball-Capstone-Project/src/Get_Data.py\u001b[0m in \u001b[0;36m__init__\u001b[0;34m(self)\u001b[0m\n\u001b[1;32m     17\u001b[0m         \u001b[0mpoints_df\u001b[0m \u001b[0;34m=\u001b[0m \u001b[0mpd\u001b[0m\u001b[0;34m.\u001b[0m\u001b[0mDataFrame\u001b[0m\u001b[0;34m(\u001b[0m\u001b[0mnp\u001b[0m\u001b[0;34m.\u001b[0m\u001b[0marray\u001b[0m\u001b[0;34m(\u001b[0m\u001b[0mdata_points\u001b[0m\u001b[0;34m)\u001b[0m\u001b[0;34m)\u001b[0m\u001b[0;34m\u001b[0m\u001b[0m\n\u001b[1;32m     18\u001b[0m         \u001b[0mpoints_df\u001b[0m\u001b[0;34m.\u001b[0m\u001b[0mcolumns\u001b[0m \u001b[0;34m=\u001b[0m \u001b[0;34m[\u001b[0m\u001b[0;34m'season'\u001b[0m\u001b[0;34m,\u001b[0m\u001b[0;34m'player'\u001b[0m\u001b[0;34m,\u001b[0m\u001b[0;34m'age'\u001b[0m\u001b[0;34m,\u001b[0m\u001b[0;34m'team'\u001b[0m\u001b[0;34m,\u001b[0m\u001b[0;34m'points'\u001b[0m\u001b[0;34m,\u001b[0m\u001b[0;34m'points_ly'\u001b[0m\u001b[0;34m,\u001b[0m\u001b[0;34m'change_points_ly'\u001b[0m\u001b[0;34m,\u001b[0m\u001b[0;34m'starter_change'\u001b[0m\u001b[0;34m,\u001b[0m\u001b[0;34m'Games'\u001b[0m\u001b[0;34m,\u001b[0m\u001b[0;34m'C_PF'\u001b[0m\u001b[0;34m,\u001b[0m\u001b[0;34m'PG'\u001b[0m\u001b[0;34m,\u001b[0m\u001b[0;34m'SG_SF'\u001b[0m\u001b[0;34m,\u001b[0m\u001b[0;34m'high_usageplayer_added'\u001b[0m\u001b[0;34m,\u001b[0m\u001b[0;34m'usagemin_opened'\u001b[0m\u001b[0;34m,\u001b[0m\u001b[0;34m'maxusage_added'\u001b[0m\u001b[0;34m,\u001b[0m\u001b[0;34m'high_usageplayer_dropped'\u001b[0m\u001b[0;34m,\u001b[0m\u001b[0;34m'points_opened'\u001b[0m\u001b[0;34m,\u001b[0m\u001b[0;34m'max_pointsdropped'\u001b[0m\u001b[0;34m,\u001b[0m\u001b[0;34m'max_pointsadded'\u001b[0m\u001b[0;34m,\u001b[0m\u001b[0;34m'three_ar_ly'\u001b[0m\u001b[0;34m,\u001b[0m\u001b[0;34m'change_3ar'\u001b[0m\u001b[0;34m,\u001b[0m\u001b[0;34m'per_ly'\u001b[0m\u001b[0;34m,\u001b[0m\u001b[0;34m'change_per'\u001b[0m\u001b[0;34m,\u001b[0m\u001b[0;34m'usagerank'\u001b[0m\u001b[0;34m,\u001b[0m\u001b[0;34m'usagerank_ly'\u001b[0m\u001b[0;34m,\u001b[0m\u001b[0;34m'offensive_winshares'\u001b[0m\u001b[0;34m,\u001b[0m\u001b[0;34m'offensive_boxplusminus'\u001b[0m\u001b[0;34m,\u001b[0m\u001b[0;34m'boxplusminus'\u001b[0m\u001b[0;34m,\u001b[0m\u001b[0;34m'value_overreplacement'\u001b[0m\u001b[0;34m,\u001b[0m\u001b[0;34m'max_teammatepts'\u001b[0m\u001b[0;34m,\u001b[0m\u001b[0;34m'max_teammateusage'\u001b[0m\u001b[0;34m,\u001b[0m\u001b[0;34m'max_teammateto'\u001b[0m\u001b[0;34m,\u001b[0m\u001b[0;34m'max_teammateshot_attempts'\u001b[0m\u001b[0;34m,\u001b[0m\u001b[0;34m'career_points'\u001b[0m\u001b[0;34m,\u001b[0m\u001b[0;34m'yearspro'\u001b[0m\u001b[0;34m]\u001b[0m\u001b[0;34m\u001b[0m\u001b[0m\n\u001b[0;32m---> 19\u001b[0;31m         \u001b[0mpoints_df\u001b[0m\u001b[0;34m[\u001b[0m\u001b[0;34m'age_squared'\u001b[0m\u001b[0;34m]\u001b[0m\u001b[0;34m=\u001b[0m \u001b[0mself\u001b[0m\u001b[0;34m.\u001b[0m\u001b[0mpoints_df\u001b[0m\u001b[0;34m[\u001b[0m\u001b[0;34m'age'\u001b[0m\u001b[0;34m]\u001b[0m\u001b[0;34m*\u001b[0m\u001b[0mself\u001b[0m\u001b[0;34m.\u001b[0m\u001b[0mpoints_df\u001b[0m\u001b[0;34m[\u001b[0m\u001b[0;34m'age'\u001b[0m\u001b[0;34m]\u001b[0m\u001b[0;34m\u001b[0m\u001b[0m\n\u001b[0m\u001b[1;32m     20\u001b[0m         \u001b[0mpoints\u001b[0m \u001b[0;34m=\u001b[0m \u001b[0mpoints_df\u001b[0m\u001b[0;34m[\u001b[0m\u001b[0mpoints_df\u001b[0m\u001b[0;34m[\u001b[0m\u001b[0;34m'points_ly'\u001b[0m\u001b[0;34m]\u001b[0m\u001b[0;34m.\u001b[0m\u001b[0mnotna\u001b[0m\u001b[0;34m(\u001b[0m\u001b[0;34m)\u001b[0m\u001b[0;34m]\u001b[0m\u001b[0;34m\u001b[0m\u001b[0m\n\u001b[1;32m     21\u001b[0m         \u001b[0;32mfor\u001b[0m \u001b[0mi\u001b[0m \u001b[0;32min\u001b[0m \u001b[0mpoints\u001b[0m\u001b[0;34m.\u001b[0m\u001b[0mcolumns\u001b[0m\u001b[0;34m:\u001b[0m\u001b[0;34m\u001b[0m\u001b[0m\n",
      "\u001b[0;31mAttributeError\u001b[0m: 'Get_Category_Data' object has no attribute 'points_df'"
     ]
    }
   ],
   "source": [
    "cat_data = g.Get_Category_Data()"
   ]
  },
  {
   "cell_type": "code",
   "execution_count": null,
   "metadata": {},
   "outputs": [],
   "source": []
  }
 ],
 "metadata": {
  "kernelspec": {
   "display_name": "Python 3",
   "language": "python",
   "name": "python3"
  },
  "language_info": {
   "codemirror_mode": {
    "name": "ipython",
    "version": 3
   },
   "file_extension": ".py",
   "mimetype": "text/x-python",
   "name": "python",
   "nbconvert_exporter": "python",
   "pygments_lexer": "ipython3",
   "version": "3.6.5"
  }
 },
 "nbformat": 4,
 "nbformat_minor": 2
}
