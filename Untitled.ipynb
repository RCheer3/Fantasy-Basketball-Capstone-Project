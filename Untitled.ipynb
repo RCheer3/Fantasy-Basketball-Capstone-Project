{
 "cells": [
  {
   "cell_type": "code",
   "execution_count": 4,
   "metadata": {},
   "outputs": [],
   "source": [
    "import pandas as pd\n",
    "\n",
    "\n",
    "\n"
   ]
  },
  {
   "cell_type": "code",
   "execution_count": 11,
   "metadata": {},
   "outputs": [],
   "source": [
    "job_id = [1001,1002,1003,1004,1005,1006,1007]\n",
    "MEMBER_ID = [1,1,2,3,3,3,3]\n",
    "job_posting_date = ['2017-04-14','2017-08-14','2017-05-31','2016-08-23','2017-04-28','2017-05-23','2017-07-08']\n",
    "table = pd.DataFrame()"
   ]
  },
  {
   "cell_type": "code",
   "execution_count": 27,
   "metadata": {},
   "outputs": [],
   "source": [
    "table['JOB_ID'] = job_id\n",
    "table['member_id'] = MEMBER_ID\n",
    "table['JOB_POSTING_DATE'] = job_posting_date\n",
    "\n",
    "table['JOB_POSTING_DATE'] = table['JOB_POSTING_DATE'].astype('datetime64[ns]')"
   ]
  },
  {
   "cell_type": "code",
   "execution_count": 28,
   "metadata": {},
   "outputs": [
    {
     "data": {
      "text/html": [
       "<div>\n",
       "<style scoped>\n",
       "    .dataframe tbody tr th:only-of-type {\n",
       "        vertical-align: middle;\n",
       "    }\n",
       "\n",
       "    .dataframe tbody tr th {\n",
       "        vertical-align: top;\n",
       "    }\n",
       "\n",
       "    .dataframe thead th {\n",
       "        text-align: right;\n",
       "    }\n",
       "</style>\n",
       "<table border=\"1\" class=\"dataframe\">\n",
       "  <thead>\n",
       "    <tr style=\"text-align: right;\">\n",
       "      <th></th>\n",
       "      <th>JOB_ID</th>\n",
       "      <th>member_id</th>\n",
       "      <th>JOB_POSTING_DATE</th>\n",
       "    </tr>\n",
       "  </thead>\n",
       "  <tbody>\n",
       "    <tr>\n",
       "      <th>0</th>\n",
       "      <td>1001</td>\n",
       "      <td>1</td>\n",
       "      <td>2017-04-14</td>\n",
       "    </tr>\n",
       "    <tr>\n",
       "      <th>1</th>\n",
       "      <td>1002</td>\n",
       "      <td>1</td>\n",
       "      <td>2017-08-14</td>\n",
       "    </tr>\n",
       "    <tr>\n",
       "      <th>2</th>\n",
       "      <td>1003</td>\n",
       "      <td>2</td>\n",
       "      <td>2017-05-31</td>\n",
       "    </tr>\n",
       "    <tr>\n",
       "      <th>3</th>\n",
       "      <td>1004</td>\n",
       "      <td>3</td>\n",
       "      <td>2016-08-23</td>\n",
       "    </tr>\n",
       "    <tr>\n",
       "      <th>4</th>\n",
       "      <td>1005</td>\n",
       "      <td>3</td>\n",
       "      <td>2017-04-28</td>\n",
       "    </tr>\n",
       "    <tr>\n",
       "      <th>5</th>\n",
       "      <td>1006</td>\n",
       "      <td>3</td>\n",
       "      <td>2017-05-23</td>\n",
       "    </tr>\n",
       "    <tr>\n",
       "      <th>6</th>\n",
       "      <td>1007</td>\n",
       "      <td>3</td>\n",
       "      <td>2017-07-08</td>\n",
       "    </tr>\n",
       "  </tbody>\n",
       "</table>\n",
       "</div>"
      ],
      "text/plain": [
       "   JOB_ID  member_id JOB_POSTING_DATE\n",
       "0    1001          1       2017-04-14\n",
       "1    1002          1       2017-08-14\n",
       "2    1003          2       2017-05-31\n",
       "3    1004          3       2016-08-23\n",
       "4    1005          3       2017-04-28\n",
       "5    1006          3       2017-05-23\n",
       "6    1007          3       2017-07-08"
      ]
     },
     "execution_count": 28,
     "metadata": {},
     "output_type": "execute_result"
    }
   ],
   "source": [
    "table"
   ]
  },
  {
   "cell_type": "code",
   "execution_count": 29,
   "metadata": {},
   "outputs": [],
   "source": [
    "merged_table = pd.merge(table.copy(),table.copy(), how='inner',left_on='member_id',right_on='member_id')\n",
    "\n",
    "merged_table.columns = ['JOB_ID','MEMBER_ID','JOB_POSTING_DATE','JOB_ID2','JOB_POSTING_DATE2']\n"
   ]
  },
  {
   "cell_type": "code",
   "execution_count": 31,
   "metadata": {},
   "outputs": [
    {
     "name": "stdout",
     "output_type": "stream",
     "text": [
      "<class 'pandas.core.frame.DataFrame'>\n",
      "Int64Index: 21 entries, 0 to 20\n",
      "Data columns (total 5 columns):\n",
      "JOB_ID               21 non-null int64\n",
      "MEMBER_ID            21 non-null int64\n",
      "JOB_POSTING_DATE     21 non-null datetime64[ns]\n",
      "JOB_ID2              21 non-null int64\n",
      "JOB_POSTING_DATE2    21 non-null datetime64[ns]\n",
      "dtypes: datetime64[ns](2), int64(3)\n",
      "memory usage: 1008.0 bytes\n"
     ]
    }
   ],
   "source": [
    "merged_table.info()"
   ]
  },
  {
   "cell_type": "code",
   "execution_count": 79,
   "metadata": {},
   "outputs": [
    {
     "name": "stdout",
     "output_type": "stream",
     "text": [
      "1001\n",
      "1002\n",
      "1003\n",
      "1004\n",
      "1005\n",
      "1006\n",
      "1007\n",
      "{'new': 3, 'reactivated': 1, 'repost': 3}\n"
     ]
    }
   ],
   "source": [
    "import pandas as pd\n",
    "job_id = [1001,1002,1003,1004,1005,1006,1007]\n",
    "MEMBER_ID = [1,1,2,3,3,3,3]\n",
    "job_posting_date = ['2017-04-14','2017-08-14','2017-05-31','2016-08-23','2017-04-28','2017-05-23','2017-07-08']\n",
    "table = pd.DataFrame()\n",
    "\n",
    "table['JOB_ID'] = job_id\n",
    "table['member_id'] = MEMBER_ID\n",
    "table['JOB_POSTING_DATE'] = job_posting_date\n",
    "\n",
    "table['JOB_POSTING_DATE'] = table['JOB_POSTING_DATE'].astype('datetime64[ns]')\n",
    "\n",
    "merged_table = pd.merge(table.copy(),table.copy(), how='inner',left_on='member_id',right_on='member_id')\n",
    "\n",
    "merged_table.columns = ['JOB_ID','MEMBER_ID','JOB_POSTING_DATE','JOB_ID2','JOB_POSTING_DATE2']\n",
    "\n",
    "\n",
    "merged_table['Difference'] = merged_table['JOB_POSTING_DATE2'].sub(merged_table['JOB_POSTING_DATE'], axis=0)\n",
    "merged_table['Difference'] = merged_table['Difference'].dt.days\n",
    "\n",
    "merged_table = merged_table[(merged_table['Difference']<=0) & (merged_table['JOB_ID']!=merged_table['JOB_ID2'])]\n",
    "grouped = merged_table.groupby('JOB_ID').max()\n",
    "grouped\n",
    "jobs = list(table['JOB_ID'])\n",
    "dict_counter = {'new':0,'reactivated':0,'repost':0}\n",
    "for job in jobs:\n",
    "    print(job)\n",
    "    if job not in(grouped.index):\n",
    "        dict_counter['new']+=1\n",
    "for x in range(len(grouped.index)): \n",
    "    if grouped.iloc[x]['Difference']< -180:\n",
    "        dict_counter['reactivated']+=1\n",
    "    else:\n",
    "        dict_counter['repost']+=1\n",
    "print(dict_counter)\n"
   ]
  },
  {
   "cell_type": "code",
   "execution_count": 78,
   "metadata": {},
   "outputs": [
    {
     "name": "stdout",
     "output_type": "stream",
     "text": [
      "1001\n",
      "1002\n",
      "1003\n",
      "1004\n",
      "1005\n",
      "1006\n",
      "1007\n",
      "{'new': 3, 'reactivated': 1, 'repost': 3}\n"
     ]
    }
   ],
   "source": [
    "for job in jobs:\n",
    "    print(job)\n",
    "    if job not in(grouped.index):\n",
    "        dict_counter['new']+=1\n",
    "for x in range(len(grouped.index)): \n",
    "    if grouped.iloc[x]['Difference']< -180:\n",
    "        dict_counter['reactivated']+=1\n",
    "    else:\n",
    "        dict_counter['repost']+=1\n",
    "print(dict_counter)"
   ]
  },
  {
   "cell_type": "code",
   "execution_count": 66,
   "metadata": {},
   "outputs": [
    {
     "data": {
      "text/plain": [
       "4"
      ]
     },
     "execution_count": 66,
     "metadata": {},
     "output_type": "execute_result"
    }
   ],
   "source": [
    "]"
   ]
  },
  {
   "cell_type": "code",
   "execution_count": 61,
   "metadata": {},
   "outputs": [
    {
     "data": {
      "text/plain": [
       "-122"
      ]
     },
     "execution_count": 61,
     "metadata": {},
     "output_type": "execute_result"
    }
   ],
   "source": [
    "grouped.iloc[0]['Difference']"
   ]
  },
  {
   "cell_type": "code",
   "execution_count": 53,
   "metadata": {},
   "outputs": [
    {
     "name": "stdout",
     "output_type": "stream",
     "text": [
      "1001\n",
      "1003\n",
      "1004\n"
     ]
    }
   ],
   "source": []
  },
  {
   "cell_type": "code",
   "execution_count": null,
   "metadata": {},
   "outputs": [],
   "source": [
    "merged_table['day difference'] = merged_table['JOB_POSTING_DATE'] - merged_table['JOB_POSTING_DATE2']\n",
    "\n",
    "merged_table = merged_table[(merged_table['JOB_ID']!=merged_table['JOB_ID2'] )(merged_table['day difference']<0)]"
   ]
  },
  {
   "cell_type": "code",
   "execution_count": null,
   "metadata": {},
   "outputs": [],
   "source": [
    "merged_table = pd.merge(table.copy(),table.copy(), how='inner',left_on='member_id',right_on='member_id')\n",
    "\n",
    "merged_table.columns = ['JOB_ID','MEMBER_ID','JOB_POSTING_DATE','JOB_ID2','JOB_POSTING_DATE2']\n",
    "merged_table['day difference'] = merged_table['JOB_POSTING_DATE'] - merged_table['JOB_POSTING_DATE2']\n",
    "merged_table = merged_table[(merged_table['JOB_ID']!=merged_table['JOB_ID2'] )(merged_table['day difference']<0)]\n",
    "\n",
    "\n",
    "\n",
    "merged_table.groupby('MEMBER_ID').COUNT() #if count = 1 then new\n",
    "merged_table.groupby('JOB_ID').MIN()['day difference'] #if day difference>180 mark as repeat, else mark as repeat posting\n",
    "\n",
    "jobs = list(merged_table['JOB_ID'].unique())\n",
    "dict_ = {'reactivation':0,'repeat posting':0,'new post':0}\n",
    "for job in jobs:\n",
    "    if merged_table.groupby('JOB_ID').MIN()['day_difference'].loc(job)>180:\n",
    "        dict_['reactivation'] +=1\n",
    "    elif merged_table.groupby('JOB_ID').MIN()['day_difference'].loc(job)<180:\n",
    "        dict_['repeat posting'] +=1\n",
    "    else:\n",
    "        dict_['new post'] +=1\n",
    "\n",
    "\n",
    "\n",
    "\n",
    "\n",
    "\n",
    "\n"
   ]
  }
 ],
 "metadata": {
  "kernelspec": {
   "display_name": "Python 3",
   "language": "python",
   "name": "python3"
  },
  "language_info": {
   "codemirror_mode": {
    "name": "ipython",
    "version": 3
   },
   "file_extension": ".py",
   "mimetype": "text/x-python",
   "name": "python",
   "nbconvert_exporter": "python",
   "pygments_lexer": "ipython3",
   "version": "3.6.5"
  }
 },
 "nbformat": 4,
 "nbformat_minor": 2
}
